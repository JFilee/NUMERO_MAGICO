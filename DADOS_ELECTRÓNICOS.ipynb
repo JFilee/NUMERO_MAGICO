{
  "nbformat": 4,
  "nbformat_minor": 0,
  "metadata": {
    "colab": {
      "provenance": [],
      "authorship_tag": "ABX9TyMt9v7BF3+uMb8nU3Dk1x5U",
      "include_colab_link": true
    },
    "kernelspec": {
      "name": "python3",
      "display_name": "Python 3"
    },
    "language_info": {
      "name": "python"
    }
  },
  "cells": [
    {
      "cell_type": "markdown",
      "metadata": {
        "id": "view-in-github",
        "colab_type": "text"
      },
      "source": [
        "<a href=\"https://colab.research.google.com/github/JFilee/NUMERO_MAGICO/blob/main/DADOS_ELECTR%C3%93NICOS.ipynb\" target=\"_parent\"><img src=\"https://colab.research.google.com/assets/colab-badge.svg\" alt=\"Open In Colab\"/></a>"
      ]
    },
    {
      "cell_type": "code",
      "execution_count": 13,
      "metadata": {
        "colab": {
          "base_uri": "https://localhost:8080/"
        },
        "id": "zJU4if1IgxjO",
        "outputId": "c1157889-80be-435f-b239-8d2e9cb5f444"
      },
      "outputs": [
        {
          "output_type": "stream",
          "name": "stdout",
          "text": [
            "----- ------------\n",
            "DADOS ELECTRÓNICOS\n",
            "----- ------------\n",
            "LANZAR LOS DADOS:\n",
            "DADO 1 = 1\n",
            "DADO 2 = 6\n"
          ]
        }
      ],
      "source": [
        "import random\n",
        "\n",
        "print(\"----- ------------\")\n",
        "print(\"DADOS ELECTRÓNICOS\")\n",
        "print(\"----- ------------\")\n",
        "\n",
        "# Generar los valores de los dados\n",
        "x = random.randint(1, 6)\n",
        "y = random.randint(1, 6)\n",
        "\n",
        "print(\"LANZAR LOS DADOS:\")\n",
        "print(f\"DADO 1 = {x}\")\n",
        "print(f\"DADO 2 = {y}\")\n"
      ]
    }
  ]
}