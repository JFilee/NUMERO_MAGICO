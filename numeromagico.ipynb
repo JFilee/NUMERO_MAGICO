{
  "nbformat": 4,
  "nbformat_minor": 0,
  "metadata": {
    "colab": {
      "provenance": [],
      "authorship_tag": "ABX9TyNEH2+gR3dr7c7mjBmOU6XK",
      "include_colab_link": true
    },
    "kernelspec": {
      "name": "python3",
      "display_name": "Python 3"
    },
    "language_info": {
      "name": "python"
    }
  },
  "cells": [
    {
      "cell_type": "markdown",
      "metadata": {
        "id": "view-in-github",
        "colab_type": "text"
      },
      "source": [
        "<a href=\"https://colab.research.google.com/github/JFilee/NUMERO_MAGICO/blob/main/numeromagico.ipynb\" target=\"_parent\"><img src=\"https://colab.research.google.com/assets/colab-badge.svg\" alt=\"Open In Colab\"/></a>"
      ]
    },
    {
      "cell_type": "code",
      "execution_count": 1,
      "metadata": {
        "id": "FbqULIjxRRP9",
        "colab": {
          "base_uri": "https://localhost:8080/"
        },
        "outputId": "7b8d0bc8-9fa9-4a60-d2da-ce4fa44c83fa"
      },
      "outputs": [
        {
          "output_type": "stream",
          "name": "stdout",
          "text": [
            "----- --- ------ ------\n",
            "JUEGO DEL NUMERO MAGICO\n",
            "----- --- ------ ------\n",
            "El número mágico\n",
            "Ingrese un número entre 1 y 500: 250\n",
            "Bajo\n",
            "Ingrese un número entre 1 y 500: 400\n",
            "Alto\n",
            "Ingrese un número entre 1 y 500: 380\n",
            "Alto\n",
            "Ingrese un número entre 1 y 500: 390\n",
            "Alto\n",
            "Ingrese un número entre 1 y 500: 360\n",
            "Alto\n",
            "Ingrese un número entre 1 y 500: 300\n",
            "Bajo\n",
            "Ingrese un número entre 1 y 500: 310\n",
            "Bajo\n",
            "Ingrese un número entre 1 y 500: 320\n",
            "Bajo\n",
            "Ingrese un número entre 1 y 500: 330\n",
            "Bajo\n",
            "Ingrese un número entre 1 y 500: 350\n",
            "Bajo\n",
            "Ingrese un número entre 1 y 500: 370\n",
            "Alto\n",
            "Ingrese un número entre 1 y 500: 360\n",
            "Alto\n",
            "Ingrese un número entre 1 y 500: 350\n",
            "Bajo\n",
            "Ingrese un número entre 1 y 500: 151\n",
            "Bajo\n",
            "Ingrese un número entre 1 y 500: 351\n",
            "Bajo\n",
            "Ingrese un número entre 1 y 500: 352\n",
            "Bajo\n",
            "Ingrese un número entre 1 y 500: 353\n",
            "Bajo\n",
            "Ingrese un número entre 1 y 500: 354\n",
            "Bajo\n",
            "Ingrese un número entre 1 y 500: 355\n",
            "¡Sí, 355 es el número!\n"
          ]
        }
      ],
      "source": [
        "import random\n",
        "\n",
        "# Juego del Número Mágico\n",
        "print(\"----- --- ------ ------\")\n",
        "print(\"JUEGO DEL NUMERO MÁGICO\")\n",
        "print(\"----- --- ------ ------\")\n",
        "print(\"El número mágico\")\n",
        "\n",
        "# Generar el número mágico aleatorio entre 1 y 500\n",
        "magico = random.randint(1, 500)\n",
        "numero = None\n",
        "\n",
        "# Bucle para adivinar el número\n",
        "while numero != magico:\n",
        "    numero = int(input(\"Ingrese un número entre 1 y 500: \"))\n",
        "    if numero > magico:\n",
        "        print(\"Alto\")\n",
        "    elif numero < magico:\n",
        "        print(\"Bajo\")\n",
        "\n",
        "print(f\"¡Sí, {magico} es el número!\")\n"
      ]
    }
  ]
}